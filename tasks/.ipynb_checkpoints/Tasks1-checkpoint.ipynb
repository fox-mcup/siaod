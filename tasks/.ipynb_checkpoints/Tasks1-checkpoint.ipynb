{
 "cells": [
  {
   "cell_type": "markdown",
   "id": "244314fb",
   "metadata": {},
   "source": [
    "# Задание 1"
   ]
  },
  {
   "cell_type": "markdown",
   "id": "64630386",
   "metadata": {},
   "source": [
    "Даны две строки: `s1` и `s2` с одинаковым размером.\n",
    "\n",
    "Проверьте, может ли некоторая перестановка строки `s1` “победить” некоторую перестановку строки `s2` или наоборот.\n",
    "\n",
    "Строка x может “победить” строку y (обе имеют размер n), если `x[i] >= y[i]` (в алфавитном порядке) для всех i от 0 до n-1.\n"
   ]
  },
  {
   "cell_type": "markdown",
   "id": "cf51dab2",
   "metadata": {},
   "source": [
    "## Ввод"
   ]
  },
  {
   "cell_type": "markdown",
   "id": "d697a747",
   "metadata": {},
   "source": [
    "`abc`\n",
    "`xya`"
   ]
  },
  {
   "cell_type": "markdown",
   "id": "50b10a2e",
   "metadata": {},
   "source": [
    "## Вывод"
   ]
  },
  {
   "cell_type": "markdown",
   "id": "55442a49",
   "metadata": {},
   "source": [
    "`True`\n",
    "\n",
    "### Исполняемый код записать в ячейку ниже:"
   ]
  },
  {
   "cell_type": "code",
   "execution_count": 1,
   "id": "3b0d440a",
   "metadata": {},
   "outputs": [
    {
     "name": "stdout",
     "output_type": "stream",
     "text": [
      "Input 1 str: xya\n",
      "Input 2 str: abc\n",
      "True\n"
     ]
    }
   ],
   "source": [
    "# получаем строки для сравнения\n",
    "first_str, second_str = input('Input 1 str: '), input('Input 2 str: ')\n",
    "\n",
    "# проверяем корректность ввода\n",
    "if len(first_str) != len(second_str):\n",
    "    print('Error! Different lenght.')\n",
    "\n",
    "else:\n",
    "    # устанавливаем флаг и получаем сортированные списки\n",
    "    flag = False\n",
    "    sorted_first = sorted(first_str)\n",
    "    sorted_second = sorted(second_str)\n",
    "\n",
    "    # выбираем \"потенциального победителя\" и ставим его на первое место\n",
    "    if sorted_first <= sorted_second:\n",
    "        sorted_first, sorted_second = sorted_second, sorted_first\n",
    "\n",
    "    # проверяем \"потенциального победителя\" и возвращаем результат\n",
    "    for i in range(len(first_str)):\n",
    "        if sorted_first[i] < sorted_second[i]:\n",
    "            flag = False\n",
    "            break\n",
    "        else:\n",
    "            flag = True\n",
    "    print(flag)\n"
   ]
  },
  {
   "cell_type": "markdown",
   "id": "b3a969a6",
   "metadata": {},
   "source": [
    "# Задание 2"
   ]
  },
  {
   "cell_type": "markdown",
   "id": "9c1ce05d",
   "metadata": {},
   "source": [
    "Дана строка `s`, вернуть самую длинную полиндромную подстроку в `s`."
   ]
  },
  {
   "cell_type": "markdown",
   "id": "20415c0e",
   "metadata": {},
   "source": [
    "## Ввод"
   ]
  },
  {
   "cell_type": "markdown",
   "id": "e77fcb44",
   "metadata": {},
   "source": [
    "`babad`"
   ]
  },
  {
   "cell_type": "markdown",
   "id": "49996449",
   "metadata": {},
   "source": [
    "## Вывод"
   ]
  },
  {
   "cell_type": "markdown",
   "id": "75be2464",
   "metadata": {},
   "source": [
    "`aba` или `bab`"
   ]
  },
  {
   "cell_type": "markdown",
   "id": "12ef9771",
   "metadata": {},
   "source": [
    "## Исполняемый код записывать в ячейку ниже"
   ]
  },
  {
   "cell_type": "code",
   "execution_count": 7,
   "id": "3f06c4fc",
   "metadata": {},
   "outputs": [
    {
     "name": "stdout",
     "output_type": "stream",
     "text": [
      "Input string: babad\n",
      "bab или aba\n"
     ]
    }
   ],
   "source": [
    "string = input('Input string: ')\n",
    "pal = []\n",
    "\n",
    "for i in range(len(string)):\n",
    "    mem = \"\"\n",
    "    for j in range(i, len(string)):\n",
    "        mem += string[j]\n",
    "\n",
    "        if mem == mem[::-1]:\n",
    "            if not len(pal):\n",
    "                pal.append(mem)\n",
    "            elif len(pal[0]) < len(mem):\n",
    "                pal.clear()\n",
    "                pal.append(mem)\n",
    "            elif len(pal[0]) == len(mem):\n",
    "                pal.append(mem)\n",
    "\n",
    "print(\" или \".join(map(str, pal)))"
   ]
  },
  {
   "cell_type": "markdown",
   "id": "5f54b630",
   "metadata": {},
   "source": [
    "# Задание 3"
   ]
  },
  {
   "cell_type": "markdown",
   "id": "566f1d3b",
   "metadata": {},
   "source": [
    "Вернуть количество отдельных непустых подстрок текста, которые могут быть записаны как конкатенация некоторой строки с самой собой (т.е. она может быть записана, как `a + a`, где `a` - некоторая строка)."
   ]
  },
  {
   "cell_type": "markdown",
   "id": "0f734fd8",
   "metadata": {},
   "source": [
    "## Ввод"
   ]
  },
  {
   "cell_type": "markdown",
   "id": "e0be5554",
   "metadata": {},
   "source": [
    "`aabb`"
   ]
  },
  {
   "cell_type": "markdown",
   "id": "ab8eda0b",
   "metadata": {},
   "source": [
    "## Вывод"
   ]
  },
  {
   "cell_type": "markdown",
   "id": "1d716d36",
   "metadata": {},
   "source": [
    "2"
   ]
  },
  {
   "cell_type": "markdown",
   "id": "fcd91349",
   "metadata": {},
   "source": [
    "## Исполняемый код записывать в ячейку ниже"
   ]
  },
  {
   "cell_type": "code",
   "execution_count": 6,
   "id": "be07379d",
   "metadata": {},
   "outputs": [
    {
     "name": "stdout",
     "output_type": "stream",
     "text": [
      "Input string: aabb\n",
      "2\n"
     ]
    }
   ],
   "source": [
    "string = input('Input string: ')\n",
    "substrings = []\n",
    "\n",
    "for i in range(len(string)):\n",
    "    mem = \"\"\n",
    "    for j in range(i, len(string)):\n",
    "        mem += string[j]\n",
    "        if len(mem) % 2 == 0 and mem[:len(mem) // 2] == mem[len(mem) // 2:]:\n",
    "                substrings.append(mem)\n",
    "\n",
    "print(len(substrings))"
   ]
  },
  {
   "cell_type": "code",
   "execution_count": null,
   "id": "487c1d90",
   "metadata": {},
   "outputs": [],
   "source": []
  }
 ],
 "metadata": {
  "kernelspec": {
   "display_name": "Python 3 (ipykernel)",
   "language": "python",
   "name": "python3"
  },
  "language_info": {
   "codemirror_mode": {
    "name": "ipython",
    "version": 3
   },
   "file_extension": ".py",
   "mimetype": "text/x-python",
   "name": "python",
   "nbconvert_exporter": "python",
   "pygments_lexer": "ipython3",
   "version": "3.10.2"
  }
 },
 "nbformat": 4,
 "nbformat_minor": 5
}
