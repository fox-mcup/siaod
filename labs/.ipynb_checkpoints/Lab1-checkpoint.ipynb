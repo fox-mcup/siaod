{
 "cells": [
  {
   "cell_type": "markdown",
   "id": "fifteen-sailing",
   "metadata": {},
   "source": [
    "# Лабораторная работа №1\n",
    "## Выполнил студент группы БВТ2005 Алексеев Макар Сергеевич"
   ]
  },
  {
   "cell_type": "markdown",
   "id": "particular-syndicate",
   "metadata": {},
   "source": [
    "### Оглавление\n",
    "1. [Задание 1](#Задание-№1)\n",
    "2. [Задание 2](#Задание-№2)\n",
    "3. [Задание 3](#Задание-№3)\n",
    "4. [Вывод](#Вывод)"
   ]
  },
  {
   "cell_type": "markdown",
   "id": "arctic-stocks",
   "metadata": {},
   "source": [
    "### Задание №1\n",
    "<i> Вызвать функцию print() и передать туда строку Hello, World! </i>"
   ]
  },
  {
   "cell_type": "code",
   "execution_count": 27,
   "id": "caring-truck",
   "metadata": {
    "scrolled": true
   },
   "outputs": [
    {
     "name": "stdout",
     "output_type": "stream",
     "text": [
      "Hello, World!\n"
     ]
    }
   ],
   "source": [
    "print('Hello, World!')"
   ]
  },
  {
   "cell_type": "markdown",
   "id": "maritime-conversation",
   "metadata": {},
   "source": [
    "### Задание №2\n",
    "Написать генератор случайных матриц(многомерных), который принимает\n",
    "опциональные параметры <b>m</b>, <b>n</b>, <b>min_limit</b>, <b>max_limit</b>, где <b>m</b> и <b>n</b> указывают размер\n",
    "матрицы, а <b>min_lim</b> и <b>max_lim</b> - минимальное и максимальное значение для\n",
    "генерируемого числа."
   ]
  },
  {
   "cell_type": "code",
   "execution_count": 28,
   "id": "built-contact",
   "metadata": {},
   "outputs": [],
   "source": [
    "import random\n",
    "import time"
   ]
  },
  {
   "cell_type": "code",
   "execution_count": 38,
   "id": "alert-charm",
   "metadata": {},
   "outputs": [
    {
     "name": "stdout",
     "output_type": "stream",
     "text": [
      "15\n",
      "15\n",
      "1\n",
      "100\n",
      "\n",
      "30\t92\t74\t83\t3\t71\t17\t66\t10\t35\t20\t75\t63\t95\t90\t\n",
      "58\t56\t89\t34\t5\t26\t29\t72\t69\t9\t91\t26\t85\t52\t60\t\n",
      "81\t44\t72\t95\t8\t73\t19\t39\t47\t81\t35\t49\t80\t74\t37\t\n",
      "65\t39\t38\t36\t79\t89\t3\t85\t82\t13\t82\t100\t34\t60\t93\t\n",
      "92\t79\t23\t31\t78\t60\t89\t30\t96\t43\t17\t41\t69\t13\t87\t\n",
      "57\t28\t4\t74\t27\t31\t12\t2\t31\t23\t12\t89\t61\t12\t39\t\n",
      "97\t56\t79\t61\t47\t36\t11\t5\t15\t18\t34\t57\t8\t2\t9\t\n",
      "69\t69\t8\t10\t11\t58\t17\t89\t84\t63\t66\t28\t65\t71\t65\t\n",
      "85\t17\t9\t15\t90\t71\t91\t55\t48\t27\t28\t77\t78\t85\t8\t\n",
      "16\t43\t76\t1\t24\t47\t8\t9\t72\t75\t61\t5\t96\t3\t75\t\n",
      "83\t82\t73\t57\t86\t4\t3\t85\t90\t4\t47\t48\t24\t40\t88\t\n",
      "63\t84\t90\t49\t63\t30\t89\t15\t93\t14\t40\t84\t58\t45\t46\t\n",
      "59\t48\t91\t67\t2\t27\t76\t98\t11\t11\t85\t23\t8\t63\t34\t\n",
      "18\t6\t12\t59\t7\t6\t92\t63\t60\t1\t38\t7\t77\t45\t79\t\n",
      "31\t42\t98\t63\t14\t5\t19\t94\t17\t42\t6\t65\t1\t54\t67\t\n"
     ]
    }
   ],
   "source": [
    "user_m = int(input())\n",
    "user_n = int(input())\n",
    "user_min_limit = int(input())\n",
    "user_max_limit = int(input())\n",
    "print()\n",
    "\n",
    "def rand_matrix(m, n, min_limit, max_limit):\n",
    "    matr = []\n",
    "    for i in range(n):\n",
    "        Row = []\n",
    "        for j in range(m):\n",
    "            Row.append(random.randint(min_limit, max_limit))\n",
    "        matr.append(Row)\n",
    "    return matr\n",
    "\n",
    "def out_matrix(array):\n",
    "    for row in array:\n",
    "        for num in row:\n",
    "            print(num, end='\\t')\n",
    "        print()\n",
    "\n",
    "matrix = rand_matrix(user_m, user_n, user_min_limit, user_max_limit)\n",
    "\n",
    "out_matrix(matrix)\n"
   ]
  },
  {
   "cell_type": "markdown",
   "id": "catholic-roots",
   "metadata": {},
   "source": [
    "### Задание №3\n",
    "Реализовать методы сортировки строк числовой матрицы в соответствии с\n",
    "заданием. Оценить время работы каждого алгоритма сортировки и сравнить его со\n",
    "временем стандартной функции сортировки. Испытания проводить на сгенерированных\n",
    "матрицах."
   ]
  },
  {
   "cell_type": "code",
   "execution_count": 39,
   "id": "opposed-creature",
   "metadata": {},
   "outputs": [],
   "source": [
    "import copy"
   ]
  },
  {
   "cell_type": "code",
   "execution_count": 40,
   "id": "cleared-anniversary",
   "metadata": {},
   "outputs": [
    {
     "name": "stdout",
     "output_type": "stream",
     "text": [
      "3\t10\t17\t20\t30\t35\t63\t66\t71\t74\t75\t83\t90\t92\t95\t\n",
      "5\t9\t26\t26\t29\t34\t52\t56\t58\t60\t69\t72\t85\t89\t91\t\n",
      "8\t19\t35\t37\t39\t44\t47\t49\t72\t73\t74\t80\t81\t81\t95\t\n",
      "3\t13\t34\t36\t38\t39\t60\t65\t79\t82\t82\t85\t89\t93\t100\t\n",
      "13\t17\t23\t30\t31\t41\t43\t60\t69\t78\t79\t87\t89\t92\t96\t\n",
      "2\t4\t12\t12\t12\t23\t27\t28\t31\t31\t39\t57\t61\t74\t89\t\n",
      "2\t5\t8\t9\t11\t15\t18\t34\t36\t47\t56\t57\t61\t79\t97\t\n",
      "8\t10\t11\t17\t28\t58\t63\t65\t65\t66\t69\t69\t71\t84\t89\t\n",
      "8\t9\t15\t17\t27\t28\t48\t55\t71\t77\t78\t85\t85\t90\t91\t\n",
      "1\t3\t5\t8\t9\t16\t24\t43\t47\t61\t72\t75\t75\t76\t96\t\n",
      "3\t4\t4\t24\t40\t47\t48\t57\t73\t82\t83\t85\t86\t88\t90\t\n",
      "14\t15\t30\t40\t45\t46\t49\t58\t63\t63\t84\t84\t89\t90\t93\t\n",
      "2\t8\t11\t11\t23\t27\t34\t48\t59\t63\t67\t76\t85\t91\t98\t\n",
      "1\t6\t6\t7\t7\t12\t18\t38\t45\t59\t60\t63\t77\t79\t92\t\n",
      "1\t5\t6\t14\t17\t19\t31\t42\t42\t54\t63\t65\t67\t94\t98\t\n",
      "--- 16 ms ---\n"
     ]
    }
   ],
   "source": [
    "# Сортировка выбором.\n",
    "# Берётся срез массива, в котором минимальный элемент переносят в самый левый угол,\n",
    "# после чего срез уменьшается и цикл повторяется.\n",
    "\n",
    "start_time = time.time()\n",
    "\n",
    "sel_mtrx = copy.copy(matrix)\n",
    "\n",
    "for row in range(len(sel_mtrx)):\n",
    "    num = len(sel_mtrx[row])\n",
    "\n",
    "    for i in range(num - 1):\n",
    "        min_el = sel_mtrx[row][i]\n",
    "        index = i\n",
    "        for j in range(i+1, num):\n",
    "            if min_el > sel_mtrx[row][j]:\n",
    "                min_el = sel_mtrx[row][j]\n",
    "                index = j\n",
    "        if index != i:\n",
    "            sel_mtrx[row][i], sel_mtrx[row][index] = sel_mtrx[row][index], sel_mtrx[row][i]\n",
    "        \n",
    "\n",
    "out_matrix(sel_mtrx)\n",
    "\n",
    "sel_time = round((time.time() - start_time)*1000)\n",
    "\n",
    "#TODO\n",
    "\n",
    "print(\"--- {0} ms ---\".format(sel_time))"
   ]
  },
  {
   "cell_type": "code",
   "execution_count": 41,
   "id": "roman-silly",
   "metadata": {
    "scrolled": true
   },
   "outputs": [
    {
     "name": "stdout",
     "output_type": "stream",
     "text": [
      "3\t10\t17\t20\t30\t35\t63\t66\t71\t74\t75\t83\t90\t92\t95\t\n",
      "5\t9\t26\t26\t29\t34\t52\t56\t58\t60\t69\t72\t85\t89\t91\t\n",
      "8\t19\t35\t37\t39\t44\t47\t49\t72\t73\t74\t80\t81\t81\t95\t\n",
      "3\t13\t34\t36\t38\t39\t60\t65\t79\t82\t82\t85\t89\t93\t100\t\n",
      "13\t17\t23\t30\t31\t41\t43\t60\t69\t78\t79\t87\t89\t92\t96\t\n",
      "2\t4\t12\t12\t12\t23\t27\t28\t31\t31\t39\t57\t61\t74\t89\t\n",
      "2\t5\t8\t9\t11\t15\t18\t34\t36\t47\t56\t57\t61\t79\t97\t\n",
      "8\t10\t11\t17\t28\t58\t63\t65\t65\t66\t69\t69\t71\t84\t89\t\n",
      "8\t9\t15\t17\t27\t28\t48\t55\t71\t77\t78\t85\t85\t90\t91\t\n",
      "1\t3\t5\t8\t9\t16\t24\t43\t47\t61\t72\t75\t75\t76\t96\t\n",
      "3\t4\t4\t24\t40\t47\t48\t57\t73\t82\t83\t85\t86\t88\t90\t\n",
      "14\t15\t30\t40\t45\t46\t49\t58\t63\t63\t84\t84\t89\t90\t93\t\n",
      "2\t8\t11\t11\t23\t27\t34\t48\t59\t63\t67\t76\t85\t91\t98\t\n",
      "1\t6\t6\t7\t7\t12\t18\t38\t45\t59\t60\t63\t77\t79\t92\t\n",
      "1\t5\t6\t14\t17\t19\t31\t42\t42\t54\t63\t65\t67\t94\t98\t\n",
      "--- 8 ms ---\n"
     ]
    }
   ],
   "source": [
    "# Сортировка вставкой.\n",
    "start_time = time.time()\n",
    "\n",
    "ins_mtrx = copy.copy(matrix)\n",
    "\n",
    "for row in range(len(ins_mtrx)):\n",
    "    num = len(ins_mtrx[row])\n",
    "\n",
    "    for i in range(1, num):\n",
    "        for j in range(i, 0, -1):\n",
    "            if ins_mtrx[row][j] < ins_mtrx[row][j-1]:\n",
    "                ins_mtrx[row][j], ins_mtrx[row][j-1] = ins_mtrx[row][j-1], ins_mtrx[row][j]\n",
    "            else:\n",
    "                break\n",
    "\n",
    "out_matrix(ins_mtrx)\n",
    "\n",
    "ins_time = round((time.time() - start_time)*1000)\n",
    "\n",
    "#TODO\n",
    "\n",
    "print(\"--- {0} ms ---\".format(ins_time))"
   ]
  },
  {
   "cell_type": "code",
   "execution_count": 42,
   "id": "vital-implementation",
   "metadata": {},
   "outputs": [
    {
     "name": "stdout",
     "output_type": "stream",
     "text": [
      "\n",
      "3\t10\t17\t20\t30\t35\t63\t66\t71\t74\t75\t83\t90\t92\t95\t\n",
      "5\t9\t26\t26\t29\t34\t52\t56\t58\t60\t69\t72\t85\t89\t91\t\n",
      "8\t19\t35\t37\t39\t44\t47\t49\t72\t73\t74\t80\t81\t81\t95\t\n",
      "3\t13\t34\t36\t38\t39\t60\t65\t79\t82\t82\t85\t89\t93\t100\t\n",
      "13\t17\t23\t30\t31\t41\t43\t60\t69\t78\t79\t87\t89\t92\t96\t\n",
      "2\t4\t12\t12\t12\t23\t27\t28\t31\t31\t39\t57\t61\t74\t89\t\n",
      "2\t5\t8\t9\t11\t15\t18\t34\t36\t47\t56\t57\t61\t79\t97\t\n",
      "8\t10\t11\t17\t28\t58\t63\t65\t65\t66\t69\t69\t71\t84\t89\t\n",
      "8\t9\t15\t17\t27\t28\t48\t55\t71\t77\t78\t85\t85\t90\t91\t\n",
      "1\t3\t5\t8\t9\t16\t24\t43\t47\t61\t72\t75\t75\t76\t96\t\n",
      "3\t4\t4\t24\t40\t47\t48\t57\t73\t82\t83\t85\t86\t88\t90\t\n",
      "14\t15\t30\t40\t45\t46\t49\t58\t63\t63\t84\t84\t89\t90\t93\t\n",
      "2\t8\t11\t11\t23\t27\t34\t48\t59\t63\t67\t76\t85\t91\t98\t\n",
      "1\t6\t6\t7\t7\t12\t18\t38\t45\t59\t60\t63\t77\t79\t92\t\n",
      "1\t5\t6\t14\t17\t19\t31\t42\t42\t54\t63\t65\t67\t94\t98\t\n",
      "--- 7 ms ---\n"
     ]
    }
   ],
   "source": [
    "# Сортировка обменом. || Сортировка пузырьком.\n",
    "start_time = time.time()\n",
    "\n",
    "bubble_mtrx = copy.copy(matrix)\n",
    "\n",
    "for row in range(len(bubble_mtrx)):\n",
    "    num = len(bubble_mtrx[row])\n",
    "\n",
    "    for i in range(num-1):\n",
    "        for j in range(num-1-i):\n",
    "            if bubble_mtrx[row][j] > bubble_mtrx[row][j+1]:\n",
    "                bubble_mtrx[row][j], bubble_mtrx[row][j+1] = bubble_mtrx[row][j+1], bubble_mtrx[row][j]\n",
    "\n",
    "print()\n",
    "out_matrix(bubble_mtrx)\n",
    "\n",
    "bubble_time = round((time.time() - start_time)*1000)\n",
    "\n",
    "#TODO\n",
    "\n",
    "print(\"--- {0} ms ---\".format(bubble_time))"
   ]
  },
  {
   "cell_type": "code",
   "execution_count": 43,
   "id": "veterinary-glory",
   "metadata": {},
   "outputs": [
    {
     "name": "stdout",
     "output_type": "stream",
     "text": [
      "\n",
      "3\t10\t17\t20\t30\t35\t63\t66\t71\t74\t75\t83\t90\t92\t95\t\n",
      "5\t9\t26\t26\t29\t34\t52\t56\t58\t60\t69\t72\t85\t89\t91\t\n",
      "8\t19\t35\t37\t39\t44\t47\t49\t72\t73\t74\t80\t81\t81\t95\t\n",
      "3\t13\t34\t36\t38\t39\t60\t65\t79\t82\t82\t85\t89\t93\t100\t\n",
      "13\t17\t23\t30\t31\t41\t43\t60\t69\t78\t79\t87\t89\t92\t96\t\n",
      "2\t4\t12\t12\t12\t23\t27\t28\t31\t31\t39\t57\t61\t74\t89\t\n",
      "2\t5\t8\t9\t11\t15\t18\t34\t36\t47\t56\t57\t61\t79\t97\t\n",
      "8\t10\t11\t17\t28\t58\t63\t65\t65\t66\t69\t69\t71\t84\t89\t\n",
      "8\t9\t15\t17\t27\t28\t48\t55\t71\t77\t78\t85\t85\t90\t91\t\n",
      "1\t3\t5\t8\t9\t16\t24\t43\t47\t61\t72\t75\t75\t76\t96\t\n",
      "3\t4\t4\t24\t40\t47\t48\t57\t73\t82\t83\t85\t86\t88\t90\t\n",
      "14\t15\t30\t40\t45\t46\t49\t58\t63\t63\t84\t84\t89\t90\t93\t\n",
      "2\t8\t11\t11\t23\t27\t34\t48\t59\t63\t67\t76\t85\t91\t98\t\n",
      "1\t6\t6\t7\t7\t12\t18\t38\t45\t59\t60\t63\t77\t79\t92\t\n",
      "1\t5\t6\t14\t17\t19\t31\t42\t42\t54\t63\t65\t67\t94\t98\t\n",
      "--- 10 ms ---\n"
     ]
    }
   ],
   "source": [
    "# Сортировка Шелла.\n",
    "start_time = time.time()\n",
    "\n",
    "shell_mtrx = copy.copy(matrix)\n",
    "\n",
    "for row in range(len(shell_mtrx)):\n",
    "    num = len(shell_mtrx[row])\n",
    "    sort_range = num // 2\n",
    "\n",
    "    while sort_range > 0:\n",
    "        for value in range(sort_range, num):\n",
    "            currentValue = shell_mtrx[row][value]\n",
    "            index = value\n",
    "\n",
    "            while index >= sort_range and shell_mtrx[row][index - sort_range] > currentValue:\n",
    "                shell_mtrx[row][index] = shell_mtrx[row][index - sort_range]\n",
    "                index -= sort_range\n",
    "                shell_mtrx[row][index] = currentValue\n",
    "\n",
    "        sort_range //= 2\n",
    "\n",
    "print()\n",
    "out_matrix(shell_mtrx)\n",
    "\n",
    "shell_time = round((time.time() - start_time)*1000)\n",
    "\n",
    "#TODO\n",
    "\n",
    "print(\"--- {0} ms ---\".format(shell_time))"
   ]
  },
  {
   "cell_type": "code",
   "execution_count": 44,
   "id": "correct-chaos",
   "metadata": {},
   "outputs": [
    {
     "name": "stdout",
     "output_type": "stream",
     "text": [
      "3\t10\t17\t20\t30\t35\t63\t66\t71\t74\t75\t83\t90\t92\t95\t\n",
      "5\t9\t26\t26\t29\t34\t52\t56\t58\t60\t69\t72\t85\t89\t91\t\n",
      "8\t19\t35\t37\t39\t44\t47\t49\t72\t73\t74\t80\t81\t81\t95\t\n",
      "3\t13\t34\t36\t38\t39\t60\t65\t79\t82\t82\t85\t89\t93\t100\t\n",
      "13\t17\t23\t30\t31\t41\t43\t60\t69\t78\t79\t87\t89\t92\t96\t\n",
      "2\t4\t12\t12\t12\t23\t27\t28\t31\t31\t39\t57\t61\t74\t89\t\n",
      "2\t5\t8\t9\t11\t15\t18\t34\t36\t47\t56\t57\t61\t79\t97\t\n",
      "8\t10\t11\t17\t28\t58\t63\t65\t65\t66\t69\t69\t71\t84\t89\t\n",
      "8\t9\t15\t17\t27\t28\t48\t55\t71\t77\t78\t85\t85\t90\t91\t\n",
      "1\t3\t5\t8\t9\t16\t24\t43\t47\t61\t72\t75\t75\t76\t96\t\n",
      "3\t4\t4\t24\t40\t47\t48\t57\t73\t82\t83\t85\t86\t88\t90\t\n",
      "14\t15\t30\t40\t45\t46\t49\t58\t63\t63\t84\t84\t89\t90\t93\t\n",
      "2\t8\t11\t11\t23\t27\t34\t48\t59\t63\t67\t76\t85\t91\t98\t\n",
      "1\t6\t6\t7\t7\t12\t18\t38\t45\t59\t60\t63\t77\t79\t92\t\n",
      "1\t5\t6\t14\t17\t19\t31\t42\t42\t54\t63\t65\t67\t94\t98\t\n",
      "--- 7 ms ---\n"
     ]
    }
   ],
   "source": [
    "# Быстрая сортировка.\n",
    "start_time = time.time()\n",
    "\n",
    "def partition(array, begin, end):\n",
    "    pivot = begin\n",
    "    for i in range(begin+1, end+1):\n",
    "        if array[i] <= array[begin]:\n",
    "            pivot += 1\n",
    "            array[i], array[pivot] = array[pivot], array[i]\n",
    "    array[pivot], array[begin] = array[begin], array[pivot]\n",
    "    return pivot\n",
    "\n",
    "def quick_sort(array, begin = 0, end = None):\n",
    "    if end is None:\n",
    "        end = len(array) - 1\n",
    "\n",
    "    def _quicksort(array, begin, end):\n",
    "        if begin >= end:\n",
    "            return\n",
    "        pivot = partition(array, begin, end)\n",
    "        _quicksort(array, begin, pivot - 1)\n",
    "        _quicksort(array, pivot + 1, end)\n",
    "\n",
    "    return _quicksort(array, begin, end)\n",
    "\n",
    "quick_mtrx = copy.copy(matrix)\n",
    "\n",
    "for row in range(len(quick_mtrx)):\n",
    "    quick_sort(quick_mtrx[row])\n",
    "\n",
    "out_matrix(quick_mtrx)\n",
    "\n",
    "quick_time = round((time.time() - start_time)*1000)\n",
    "\n",
    "#TODO\n",
    "\n",
    "print(\"--- {0} ms ---\".format(quick_time))"
   ]
  },
  {
   "cell_type": "code",
   "execution_count": 45,
   "id": "french-czech",
   "metadata": {},
   "outputs": [
    {
     "name": "stdout",
     "output_type": "stream",
     "text": [
      "3\t10\t17\t20\t30\t35\t63\t66\t71\t74\t75\t83\t90\t92\t95\t\n",
      "5\t9\t26\t26\t29\t34\t52\t56\t58\t60\t69\t72\t85\t89\t91\t\n",
      "8\t19\t35\t37\t39\t44\t47\t49\t72\t73\t74\t80\t81\t81\t95\t\n",
      "3\t13\t34\t36\t38\t39\t60\t65\t79\t82\t82\t85\t89\t93\t100\t\n",
      "13\t17\t23\t30\t31\t41\t43\t60\t69\t78\t79\t87\t89\t92\t96\t\n",
      "2\t4\t12\t12\t12\t23\t27\t28\t31\t31\t39\t57\t61\t74\t89\t\n",
      "2\t5\t8\t9\t11\t15\t18\t34\t36\t47\t56\t57\t61\t79\t97\t\n",
      "8\t10\t11\t17\t28\t58\t63\t65\t65\t66\t69\t69\t71\t84\t89\t\n",
      "8\t9\t15\t17\t27\t28\t48\t55\t71\t77\t78\t85\t85\t90\t91\t\n",
      "1\t3\t5\t8\t9\t16\t24\t43\t47\t61\t72\t75\t75\t76\t96\t\n",
      "3\t4\t4\t24\t40\t47\t48\t57\t73\t82\t83\t85\t86\t88\t90\t\n",
      "14\t15\t30\t40\t45\t46\t49\t58\t63\t63\t84\t84\t89\t90\t93\t\n",
      "2\t8\t11\t11\t23\t27\t34\t48\t59\t63\t67\t76\t85\t91\t98\t\n",
      "1\t6\t6\t7\t7\t12\t18\t38\t45\t59\t60\t63\t77\t79\t92\t\n",
      "1\t5\t6\t14\t17\t19\t31\t42\t42\t54\t63\t65\t67\t94\t98\t\n",
      "--- 1 ms ---\n"
     ]
    }
   ],
   "source": [
    "# Турнирная сортировка.\n",
    "start_time = time.time()\n",
    "\n",
    "def tourn_sort(array):\n",
    "    build_max_tree(array)\n",
    "    for i in range(len(array) - 1, 0, -1):\n",
    "        array[0], array[i] = array[i], array[0]\n",
    "        max_tree(array, index=0, size=i)\n",
    "\n",
    "def parent(i):\n",
    "    return (i - 1) // 2\n",
    "\n",
    "def left(i):\n",
    "    return 2 * i + 1\n",
    "\n",
    "def right(i):\n",
    "    return 2 * i + 2\n",
    "\n",
    "def build_max_tree(array):\n",
    "    length = len(array)\n",
    "    start = parent(length - 1)\n",
    "    while start >= 0:\n",
    "        max_tree(array, index=start, size=length)\n",
    "        start = start - 1\n",
    "\n",
    "def max_tree(array, index, size):\n",
    "    l = left(index)\n",
    "    r = right(index)\n",
    "    if (l < size and array[l] > array[index]):\n",
    "        largest = l\n",
    "    else:\n",
    "        largest = index\n",
    "    if (r < size and array[r] > array[largest]):\n",
    "        largest = r\n",
    "    if (largest != index):\n",
    "        array[largest], array[index] = array[index], array[largest]\n",
    "        max_tree(array, largest, size)\n",
    "\n",
    "tourn_mtrx = copy.copy(matrix)\n",
    "\n",
    "for row in range(len(tourn_mtrx)):\n",
    "    tourn_sort(tourn_mtrx[row])\n",
    "    \n",
    "tourn_time = round((time.time() - start_time)*1000)\n",
    "\n",
    "out_matrix(tourn_mtrx)\n",
    "\n",
    "#TODO\n",
    "\n",
    "print(\"--- {0} ms ---\".format(tourn_time))"
   ]
  },
  {
   "cell_type": "markdown",
   "id": "rental-jerusalem",
   "metadata": {},
   "source": [
    "### Вывод\n"
   ]
  },
  {
   "cell_type": "code",
   "execution_count": 46,
   "id": "19e7f6a9",
   "metadata": {
    "scrolled": true
   },
   "outputs": [
    {
     "name": "stdout",
     "output_type": "stream",
     "text": [
      "1 место:\tstandart sort\t\t0 ms\n",
      "2 место:\ttournament sort\t\t1 ms\n",
      "3 место:\tbubble sort\t\t7 ms\n",
      "4 место:\tquick sort\t\t7 ms\n",
      "5 место:\tinsertion sort\t\t8 ms\n",
      "6 место:\tshell sort\t\t10 ms\n",
      "7 место:\tselection sort\t\t16 ms\n"
     ]
    }
   ],
   "source": [
    "std_mtrx = copy.copy(matrix)\n",
    "\n",
    "start_time = time.time()            \n",
    "\n",
    "for row in range(len(matrix)):\n",
    "    matrix[row].sort()\n",
    "\n",
    "std_time = round((time.time() - start_time)*1000)\n",
    "\n",
    "\n",
    "time_list = [[sel_time, 'selection sort'],\n",
    "             [ins_time, 'insertion sort'],\n",
    "             [bubble_time, 'bubble sort'],\n",
    "             [shell_time, 'shell sort'],\n",
    "             [quick_time, 'quick sort'],\n",
    "             [tourn_time, 'tournament sort'],\n",
    "             [std_time, 'standart sort']]\n",
    "\n",
    "time_list.sort()\n",
    "\n",
    "for i in range(len(time_list)):\n",
    "    print(i + 1, ' место:\\t', time_list[i][1], '\\t\\t', time_list[i][0], ' ms', sep='')\n",
    "    "
   ]
  },
  {
   "cell_type": "code",
   "execution_count": null,
   "id": "87e9e1ec",
   "metadata": {},
   "outputs": [],
   "source": []
  },
  {
   "cell_type": "code",
   "execution_count": null,
   "id": "1d2b3e0f",
   "metadata": {},
   "outputs": [],
   "source": []
  }
 ],
 "metadata": {
  "kernelspec": {
   "display_name": "Python 3 (ipykernel)",
   "language": "python",
   "name": "python3"
  },
  "language_info": {
   "codemirror_mode": {
    "name": "ipython",
    "version": 3
   },
   "file_extension": ".py",
   "mimetype": "text/x-python",
   "name": "python",
   "nbconvert_exporter": "python",
   "pygments_lexer": "ipython3",
   "version": "3.10.2"
  }
 },
 "nbformat": 4,
 "nbformat_minor": 5
}
